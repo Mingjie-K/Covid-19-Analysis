{
 "cells": [
  {
   "cell_type": "markdown",
   "metadata": {},
   "source": [
    "# Exploratory data analysis\n",
    "<input type=\"checkbox\"> Import data <br>\n",
    "<input type=\"checkbox\"> Prepare data for further analysis <br>\n",
    "<input type=\"checkbox\"> Analyse datasets <br>\n",
    "<input type=\"checkbox\"> Summarise the main characteristics <br>"
   ]
  },
  {
   "cell_type": "code",
   "execution_count": 1,
   "metadata": {
    "ExecuteTime": {
     "end_time": "2020-04-02T05:25:28.898504Z",
     "start_time": "2020-04-02T05:25:28.896504Z"
    }
   },
   "outputs": [],
   "source": [
    "import pandas as pd\n",
    "import matplotlib.pyplot as plt\n",
    "from functools import reduce"
   ]
  },
  {
   "cell_type": "markdown",
   "metadata": {},
   "source": [
    "## Import data from online source"
   ]
  },
  {
   "cell_type": "code",
   "execution_count": 2,
   "metadata": {
    "ExecuteTime": {
     "end_time": "2020-04-02T05:25:29.612360Z",
     "start_time": "2020-04-02T05:25:29.610360Z"
    }
   },
   "outputs": [],
   "source": [
    "urls = [\n",
    "    'https://github.com/CSSEGISandData/COVID-19/blob/master/csse_covid_19_data/csse_covid_19_time_series/time_series_covid19_confirmed_global.csv',\n",
    "    'https://github.com/CSSEGISandData/COVID-19/blob/master/csse_covid_19_data/csse_covid_19_time_series/time_series_covid19_deaths_global.csv',\n",
    "    'https://github.com/CSSEGISandData/COVID-19/blob/master/csse_covid_19_data/csse_covid_19_time_series/time_series_covid19_recovered_global.csv'\n",
    "]"
   ]
  },
  {
   "cell_type": "code",
   "execution_count": 3,
   "metadata": {
    "ExecuteTime": {
     "end_time": "2020-04-02T05:25:36.581970Z",
     "start_time": "2020-04-02T05:25:33.537185Z"
    }
   },
   "outputs": [],
   "source": [
    "confirm = pd.read_html(urls[0])\n",
    "death = pd.read_html(urls[1])\n",
    "recover = pd.read_html(urls[2])"
   ]
  },
  {
   "cell_type": "code",
   "execution_count": 4,
   "metadata": {
    "ExecuteTime": {
     "end_time": "2020-04-02T05:25:37.458699Z",
     "start_time": "2020-04-02T05:25:37.455699Z"
    }
   },
   "outputs": [],
   "source": [
    "confirm_df = confirm[0]\n",
    "death_df = death[0]\n",
    "recover_df = recover[0]"
   ]
  },
  {
   "cell_type": "code",
   "execution_count": 5,
   "metadata": {
    "ExecuteTime": {
     "end_time": "2020-04-02T05:25:38.673073Z",
     "start_time": "2020-04-02T05:25:38.669081Z"
    }
   },
   "outputs": [],
   "source": [
    "DATE = confirm_df.columns[5:]"
   ]
  },
  {
   "cell_type": "code",
   "execution_count": 6,
   "metadata": {
    "ExecuteTime": {
     "end_time": "2020-04-02T05:25:41.998482Z",
     "start_time": "2020-04-02T05:25:41.981478Z"
    }
   },
   "outputs": [],
   "source": [
    "confirm_cases = confirm_df.melt(id_vars=['Country/Region', 'Province/State'],\n",
    "                                value_vars=DATE,\n",
    "                                var_name='Date',\n",
    "                                value_name='Confirm')\n",
    "death_cases = death_df.melt(id_vars=['Country/Region', 'Province/State'],\n",
    "                            value_vars=DATE,\n",
    "                            var_name='Date',\n",
    "                            value_name='Deaths')\n",
    "recover_cases = recover_df.melt(id_vars=['Country/Region', 'Province/State'],\n",
    "                            value_vars=DATE,\n",
    "                            var_name='Date',\n",
    "                            value_name='Recover')"
   ]
  },
  {
   "cell_type": "code",
   "execution_count": 7,
   "metadata": {
    "ExecuteTime": {
     "end_time": "2020-04-02T05:25:49.378870Z",
     "start_time": "2020-04-02T05:25:49.376870Z"
    }
   },
   "outputs": [],
   "source": [
    "df_c = [confirm_cases, death_cases, recover_cases]"
   ]
  },
  {
   "cell_type": "code",
   "execution_count": 9,
   "metadata": {
    "ExecuteTime": {
     "end_time": "2020-04-02T05:26:20.868226Z",
     "start_time": "2020-04-02T05:26:20.646175Z"
    }
   },
   "outputs": [],
   "source": [
    "confirm_cases['Date'] = confirm_cases['Date'].apply(pd.to_datetime)\n",
    "death_cases['Date'] = death_cases['Date'].apply(pd.to_datetime)\n",
    "recover_cases['Date'] = recover_cases['Date'].apply(pd.to_datetime)\n",
    "table = reduce(lambda left,right: pd.merge(left,right, on=['Country/Region', 'Province/State','Date']),df_c)"
   ]
  },
  {
   "cell_type": "code",
   "execution_count": 10,
   "metadata": {
    "ExecuteTime": {
     "end_time": "2020-04-02T05:26:28.294456Z",
     "start_time": "2020-04-02T05:26:28.290455Z"
    }
   },
   "outputs": [],
   "source": [
    "table['Country/Region'] = table['Country/Region'].replace(\n",
    "    'Korea, South', 'South Korea')"
   ]
  },
  {
   "cell_type": "code",
   "execution_count": 11,
   "metadata": {
    "ExecuteTime": {
     "end_time": "2020-04-02T05:26:29.991646Z",
     "start_time": "2020-04-02T05:26:29.984644Z"
    }
   },
   "outputs": [
    {
     "data": {
      "text/plain": [
       "array(['Afghanistan', 'Albania', 'Algeria', 'Andorra', 'Angola',\n",
       "       'Antigua and Barbuda', 'Argentina', 'Armenia', 'Australia',\n",
       "       'Austria', 'Azerbaijan', 'Bahamas', 'Bahrain', 'Bangladesh',\n",
       "       'Barbados', 'Belarus', 'Belgium', 'Benin', 'Bhutan', 'Bolivia',\n",
       "       'Bosnia and Herzegovina', 'Brazil', 'Brunei', 'Bulgaria',\n",
       "       'Burkina Faso', 'Cabo Verde', 'Cambodia', 'Cameroon',\n",
       "       'Central African Republic', 'Chad', 'Chile', 'China', 'Colombia',\n",
       "       'Congo (Brazzaville)', 'Congo (Kinshasa)', 'Costa Rica',\n",
       "       \"Cote d'Ivoire\", 'Croatia', 'Diamond Princess', 'Cuba', 'Cyprus',\n",
       "       'Czechia', 'Denmark', 'Djibouti', 'Dominican Republic', 'Ecuador',\n",
       "       'Egypt', 'El Salvador', 'Equatorial Guinea', 'Eritrea', 'Estonia',\n",
       "       'Eswatini', 'Ethiopia', 'Fiji', 'Finland', 'France', 'Gabon',\n",
       "       'Gambia', 'Georgia', 'Germany', 'Ghana', 'Greece', 'Guatemala',\n",
       "       'Guinea', 'Guyana', 'Haiti', 'Holy See', 'Honduras', 'Hungary',\n",
       "       'Iceland', 'India', 'Indonesia', 'Iran', 'Iraq', 'Ireland',\n",
       "       'Israel', 'Italy', 'Jamaica', 'Japan', 'Jordan', 'Kazakhstan',\n",
       "       'Kenya', 'South Korea', 'Kuwait', 'Kyrgyzstan', 'Latvia',\n",
       "       'Lebanon', 'Liberia', 'Liechtenstein', 'Lithuania', 'Luxembourg',\n",
       "       'Madagascar', 'Malaysia', 'Maldives', 'Malta', 'Mauritania',\n",
       "       'Mauritius', 'Mexico', 'Moldova', 'Monaco', 'Mongolia',\n",
       "       'Montenegro', 'Morocco', 'Namibia', 'Nepal', 'Netherlands',\n",
       "       'New Zealand', 'Nicaragua', 'Niger', 'Nigeria', 'North Macedonia',\n",
       "       'Norway', 'Oman', 'Pakistan', 'Panama', 'Papua New Guinea',\n",
       "       'Paraguay', 'Peru', 'Philippines', 'Poland', 'Portugal', 'Qatar',\n",
       "       'Romania', 'Russia', 'Rwanda', 'Saint Lucia',\n",
       "       'Saint Vincent and the Grenadines', 'San Marino', 'Saudi Arabia',\n",
       "       'Senegal', 'Serbia', 'Seychelles', 'Singapore', 'Slovakia',\n",
       "       'Slovenia', 'Somalia', 'South Africa', 'Spain', 'Sri Lanka',\n",
       "       'Sudan', 'Suriname', 'Sweden', 'Switzerland', 'Taiwan*',\n",
       "       'Tanzania', 'Thailand', 'Togo', 'Trinidad and Tobago', 'Tunisia',\n",
       "       'Turkey', 'Uganda', 'Ukraine', 'United Arab Emirates',\n",
       "       'United Kingdom', 'Uruguay', 'US', 'Uzbekistan', 'Venezuela',\n",
       "       'Vietnam', 'Zambia', 'Zimbabwe', 'Dominica', 'Grenada',\n",
       "       'Mozambique', 'Syria', 'Timor-Leste', 'Belize', 'Laos', 'Libya',\n",
       "       'West Bank and Gaza', 'Guinea-Bissau', 'Mali',\n",
       "       'Saint Kitts and Nevis', 'Kosovo', 'Burma', 'MS Zaandam',\n",
       "       'Botswana', 'Burundi', 'Sierra Leone'], dtype=object)"
      ]
     },
     "execution_count": 11,
     "metadata": {},
     "output_type": "execute_result"
    }
   ],
   "source": [
    "table['Country/Region'].unique()"
   ]
  },
  {
   "cell_type": "code",
   "execution_count": 12,
   "metadata": {
    "ExecuteTime": {
     "end_time": "2020-04-02T05:26:32.414504Z",
     "start_time": "2020-04-02T05:26:32.410503Z"
    }
   },
   "outputs": [
    {
     "data": {
      "text/plain": [
       "array([nan, 'Australian Capital Territory', 'New South Wales',\n",
       "       'Northern Territory', 'Queensland', 'South Australia', 'Tasmania',\n",
       "       'Victoria', 'Western Australia', 'Anhui', 'Beijing', 'Chongqing',\n",
       "       'Fujian', 'Gansu', 'Guangdong', 'Guangxi', 'Guizhou', 'Hainan',\n",
       "       'Hebei', 'Heilongjiang', 'Henan', 'Hong Kong', 'Hubei', 'Hunan',\n",
       "       'Inner Mongolia', 'Jiangsu', 'Jiangxi', 'Jilin', 'Liaoning',\n",
       "       'Macau', 'Ningxia', 'Qinghai', 'Shaanxi', 'Shandong', 'Shanghai',\n",
       "       'Shanxi', 'Sichuan', 'Tianjin', 'Tibet', 'Xinjiang', 'Yunnan',\n",
       "       'Zhejiang', 'Faroe Islands', 'Greenland', 'French Guiana',\n",
       "       'French Polynesia', 'Guadeloupe', 'Mayotte', 'New Caledonia',\n",
       "       'Reunion', 'Saint Barthelemy', 'St Martin', 'Martinique', 'Aruba',\n",
       "       'Curacao', 'Sint Maarten', 'Bermuda', 'Cayman Islands',\n",
       "       'Channel Islands', 'Gibraltar', 'Isle of Man', 'Montserrat',\n",
       "       'Anguilla', 'British Virgin Islands', 'Turks and Caicos Islands'],\n",
       "      dtype=object)"
      ]
     },
     "execution_count": 12,
     "metadata": {},
     "output_type": "execute_result"
    }
   ],
   "source": [
    "table['Province/State'].unique()"
   ]
  },
  {
   "cell_type": "code",
   "execution_count": 13,
   "metadata": {
    "ExecuteTime": {
     "end_time": "2020-04-02T05:26:38.245167Z",
     "start_time": "2020-04-02T05:26:38.237166Z"
    }
   },
   "outputs": [
    {
     "data": {
      "text/html": [
       "<div>\n",
       "<style scoped>\n",
       "    .dataframe tbody tr th:only-of-type {\n",
       "        vertical-align: middle;\n",
       "    }\n",
       "\n",
       "    .dataframe tbody tr th {\n",
       "        vertical-align: top;\n",
       "    }\n",
       "\n",
       "    .dataframe thead th {\n",
       "        text-align: right;\n",
       "    }\n",
       "</style>\n",
       "<table border=\"1\" class=\"dataframe\">\n",
       "  <thead>\n",
       "    <tr style=\"text-align: right;\">\n",
       "      <th></th>\n",
       "      <th>Country/Region</th>\n",
       "      <th>Province/State</th>\n",
       "      <th>Date</th>\n",
       "      <th>Confirm</th>\n",
       "      <th>Deaths</th>\n",
       "      <th>Recover</th>\n",
       "    </tr>\n",
       "  </thead>\n",
       "  <tbody>\n",
       "    <tr>\n",
       "      <th>0</th>\n",
       "      <td>Afghanistan</td>\n",
       "      <td>NaN</td>\n",
       "      <td>2020-01-22</td>\n",
       "      <td>0</td>\n",
       "      <td>0</td>\n",
       "      <td>0</td>\n",
       "    </tr>\n",
       "    <tr>\n",
       "      <th>1</th>\n",
       "      <td>Albania</td>\n",
       "      <td>NaN</td>\n",
       "      <td>2020-01-22</td>\n",
       "      <td>0</td>\n",
       "      <td>0</td>\n",
       "      <td>0</td>\n",
       "    </tr>\n",
       "    <tr>\n",
       "      <th>2</th>\n",
       "      <td>Algeria</td>\n",
       "      <td>NaN</td>\n",
       "      <td>2020-01-22</td>\n",
       "      <td>0</td>\n",
       "      <td>0</td>\n",
       "      <td>0</td>\n",
       "    </tr>\n",
       "    <tr>\n",
       "      <th>3</th>\n",
       "      <td>Andorra</td>\n",
       "      <td>NaN</td>\n",
       "      <td>2020-01-22</td>\n",
       "      <td>0</td>\n",
       "      <td>0</td>\n",
       "      <td>0</td>\n",
       "    </tr>\n",
       "    <tr>\n",
       "      <th>4</th>\n",
       "      <td>Angola</td>\n",
       "      <td>NaN</td>\n",
       "      <td>2020-01-22</td>\n",
       "      <td>0</td>\n",
       "      <td>0</td>\n",
       "      <td>0</td>\n",
       "    </tr>\n",
       "  </tbody>\n",
       "</table>\n",
       "</div>"
      ],
      "text/plain": [
       "  Country/Region Province/State       Date  Confirm  Deaths  Recover\n",
       "0    Afghanistan            NaN 2020-01-22        0       0        0\n",
       "1        Albania            NaN 2020-01-22        0       0        0\n",
       "2        Algeria            NaN 2020-01-22        0       0        0\n",
       "3        Andorra            NaN 2020-01-22        0       0        0\n",
       "4         Angola            NaN 2020-01-22        0       0        0"
      ]
     },
     "execution_count": 13,
     "metadata": {},
     "output_type": "execute_result"
    }
   ],
   "source": [
    "table.head()"
   ]
  },
  {
   "cell_type": "code",
   "execution_count": 15,
   "metadata": {
    "ExecuteTime": {
     "end_time": "2020-04-02T05:26:54.825459Z",
     "start_time": "2020-04-02T05:26:54.815456Z"
    }
   },
   "outputs": [],
   "source": [
    "country_others = table.loc[(table['Country/Region'] != 'US')\n",
    "                           & (table['Country/Region'] != 'China') &\n",
    "                           (table['Country/Region'] != 'Spain') &\n",
    "                           (table['Country/Region'] != 'Italy')]"
   ]
  },
  {
   "cell_type": "code",
   "execution_count": 16,
   "metadata": {
    "ExecuteTime": {
     "end_time": "2020-04-02T05:26:55.745704Z",
     "start_time": "2020-04-02T05:26:55.737704Z"
    }
   },
   "outputs": [],
   "source": [
    "country_top4 = table.loc[(table['Country/Region'] == 'US') |\n",
    "                         (table['Country/Region'] == 'China') |\n",
    "                         (table['Country/Region'] == 'Spain') |\n",
    "                         (table['Country/Region'] == 'Italy')]"
   ]
  },
  {
   "cell_type": "code",
   "execution_count": 17,
   "metadata": {
    "ExecuteTime": {
     "end_time": "2020-04-02T05:26:57.363339Z",
     "start_time": "2020-04-02T05:26:57.350336Z"
    }
   },
   "outputs": [],
   "source": [
    "country_others_grouped = country_others.groupby(['Country/Region',\n",
    "                                                 'Date']).sum()\n",
    "country_top4_grouped = country_top4.groupby(['Country/Region', 'Date']).sum()"
   ]
  },
  {
   "cell_type": "code",
   "execution_count": 18,
   "metadata": {
    "ExecuteTime": {
     "end_time": "2020-04-02T05:27:00.309164Z",
     "start_time": "2020-04-02T05:27:00.306163Z"
    }
   },
   "outputs": [],
   "source": [
    "country_top4_confirm = country_top4_grouped.loc[:, ['Confirm']]\n",
    "country_others_confirm = country_others_grouped.loc[:,['Confirm']]"
   ]
  },
  {
   "cell_type": "code",
   "execution_count": 19,
   "metadata": {
    "ExecuteTime": {
     "end_time": "2020-04-02T05:27:03.207149Z",
     "start_time": "2020-04-02T05:27:03.185145Z"
    }
   },
   "outputs": [],
   "source": [
    "country_confirm_top_4 = pd.pivot_table(\n",
    "    country_top4_confirm, index='Date', columns='Country/Region', values='Confirm')\n",
    "country_confirm_others = pd.pivot_table(\n",
    "    country_others_confirm, index='Date', columns='Country/Region', values='Confirm')"
   ]
  },
  {
   "cell_type": "code",
   "execution_count": 20,
   "metadata": {
    "ExecuteTime": {
     "end_time": "2020-04-02T05:27:08.761699Z",
     "start_time": "2020-04-02T05:27:08.753715Z"
    }
   },
   "outputs": [
    {
     "data": {
      "text/html": [
       "<div>\n",
       "<style scoped>\n",
       "    .dataframe tbody tr th:only-of-type {\n",
       "        vertical-align: middle;\n",
       "    }\n",
       "\n",
       "    .dataframe tbody tr th {\n",
       "        vertical-align: top;\n",
       "    }\n",
       "\n",
       "    .dataframe thead th {\n",
       "        text-align: right;\n",
       "    }\n",
       "</style>\n",
       "<table border=\"1\" class=\"dataframe\">\n",
       "  <thead>\n",
       "    <tr style=\"text-align: right;\">\n",
       "      <th>Country/Region</th>\n",
       "      <th>China</th>\n",
       "      <th>Italy</th>\n",
       "      <th>Spain</th>\n",
       "      <th>US</th>\n",
       "    </tr>\n",
       "    <tr>\n",
       "      <th>Date</th>\n",
       "      <th></th>\n",
       "      <th></th>\n",
       "      <th></th>\n",
       "      <th></th>\n",
       "    </tr>\n",
       "  </thead>\n",
       "  <tbody>\n",
       "    <tr>\n",
       "      <th>2020-01-22</th>\n",
       "      <td>548</td>\n",
       "      <td>0</td>\n",
       "      <td>0</td>\n",
       "      <td>1</td>\n",
       "    </tr>\n",
       "    <tr>\n",
       "      <th>2020-01-23</th>\n",
       "      <td>643</td>\n",
       "      <td>0</td>\n",
       "      <td>0</td>\n",
       "      <td>1</td>\n",
       "    </tr>\n",
       "    <tr>\n",
       "      <th>2020-01-24</th>\n",
       "      <td>920</td>\n",
       "      <td>0</td>\n",
       "      <td>0</td>\n",
       "      <td>2</td>\n",
       "    </tr>\n",
       "    <tr>\n",
       "      <th>2020-01-25</th>\n",
       "      <td>1406</td>\n",
       "      <td>0</td>\n",
       "      <td>0</td>\n",
       "      <td>2</td>\n",
       "    </tr>\n",
       "    <tr>\n",
       "      <th>2020-01-26</th>\n",
       "      <td>2075</td>\n",
       "      <td>0</td>\n",
       "      <td>0</td>\n",
       "      <td>5</td>\n",
       "    </tr>\n",
       "    <tr>\n",
       "      <th>...</th>\n",
       "      <td>...</td>\n",
       "      <td>...</td>\n",
       "      <td>...</td>\n",
       "      <td>...</td>\n",
       "    </tr>\n",
       "    <tr>\n",
       "      <th>2020-03-28</th>\n",
       "      <td>81999</td>\n",
       "      <td>92472</td>\n",
       "      <td>73235</td>\n",
       "      <td>121478</td>\n",
       "    </tr>\n",
       "    <tr>\n",
       "      <th>2020-03-29</th>\n",
       "      <td>82122</td>\n",
       "      <td>97689</td>\n",
       "      <td>80110</td>\n",
       "      <td>140886</td>\n",
       "    </tr>\n",
       "    <tr>\n",
       "      <th>2020-03-30</th>\n",
       "      <td>82198</td>\n",
       "      <td>101739</td>\n",
       "      <td>87956</td>\n",
       "      <td>161807</td>\n",
       "    </tr>\n",
       "    <tr>\n",
       "      <th>2020-03-31</th>\n",
       "      <td>82279</td>\n",
       "      <td>105792</td>\n",
       "      <td>95923</td>\n",
       "      <td>188172</td>\n",
       "    </tr>\n",
       "    <tr>\n",
       "      <th>2020-04-01</th>\n",
       "      <td>82361</td>\n",
       "      <td>110574</td>\n",
       "      <td>104118</td>\n",
       "      <td>213372</td>\n",
       "    </tr>\n",
       "  </tbody>\n",
       "</table>\n",
       "<p>71 rows × 4 columns</p>\n",
       "</div>"
      ],
      "text/plain": [
       "Country/Region  China   Italy   Spain      US\n",
       "Date                                         \n",
       "2020-01-22        548       0       0       1\n",
       "2020-01-23        643       0       0       1\n",
       "2020-01-24        920       0       0       2\n",
       "2020-01-25       1406       0       0       2\n",
       "2020-01-26       2075       0       0       5\n",
       "...               ...     ...     ...     ...\n",
       "2020-03-28      81999   92472   73235  121478\n",
       "2020-03-29      82122   97689   80110  140886\n",
       "2020-03-30      82198  101739   87956  161807\n",
       "2020-03-31      82279  105792   95923  188172\n",
       "2020-04-01      82361  110574  104118  213372\n",
       "\n",
       "[71 rows x 4 columns]"
      ]
     },
     "execution_count": 20,
     "metadata": {},
     "output_type": "execute_result"
    }
   ],
   "source": [
    "country_confirm_top_4"
   ]
  },
  {
   "cell_type": "code",
   "execution_count": null,
   "metadata": {},
   "outputs": [],
   "source": []
  }
 ],
 "metadata": {
  "gist": {
   "data": {
    "description": "COVID-19/Covid-19 EDA.ipynb",
    "public": true
   },
   "id": ""
  },
  "hide_input": false,
  "kernelspec": {
   "display_name": "CfaMJ",
   "language": "python",
   "name": "cfamj"
  },
  "language_info": {
   "codemirror_mode": {
    "name": "ipython",
    "version": 3
   },
   "file_extension": ".py",
   "mimetype": "text/x-python",
   "name": "python",
   "nbconvert_exporter": "python",
   "pygments_lexer": "ipython3",
   "version": "3.7.5"
  },
  "toc": {
   "base_numbering": 1,
   "nav_menu": {},
   "number_sections": true,
   "sideBar": true,
   "skip_h1_title": true,
   "title_cell": "Table of Contents",
   "title_sidebar": "Contents",
   "toc_cell": false,
   "toc_position": {
    "height": "1010.89px",
    "left": "166px",
    "top": "359.406px",
    "width": "166.534px"
   },
   "toc_section_display": true,
   "toc_window_display": true
  }
 },
 "nbformat": 4,
 "nbformat_minor": 4
}
