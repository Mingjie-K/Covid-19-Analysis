{
 "cells": [
  {
   "cell_type": "markdown",
   "metadata": {},
   "source": [
    "# Exploratory data analysis\n",
    "<input type=\"checkbox\"> Import data <br>\n",
    "<input type=\"checkbox\"> Prepare data for further analysis <br>\n",
    "<input type=\"checkbox\"> Analyse datasets <br>\n",
    "<input type=\"checkbox\"> Summarise the main characteristics <br>"
   ]
  },
  {
   "cell_type": "code",
   "execution_count": 1,
   "metadata": {
    "ExecuteTime": {
     "end_time": "2020-04-01T05:09:46.204494Z",
     "start_time": "2020-04-01T05:09:46.202493Z"
    }
   },
   "outputs": [],
   "source": [
    "import pandas as pd\n",
    "import matplotlib.pyplot as plt"
   ]
  },
  {
   "cell_type": "markdown",
   "metadata": {},
   "source": [
    "## Import data from online source"
   ]
  },
  {
   "cell_type": "code",
   "execution_count": 2,
   "metadata": {
    "ExecuteTime": {
     "end_time": "2020-04-01T05:09:46.891677Z",
     "start_time": "2020-04-01T05:09:46.889676Z"
    }
   },
   "outputs": [],
   "source": [
    "urls = [\n",
    "    'https://github.com/CSSEGISandData/COVID-19/blob/master/csse_covid_19_data/csse_covid_19_time_series/time_series_covid19_confirmed_global.csv',\n",
    "    'https://github.com/CSSEGISandData/COVID-19/blob/master/csse_covid_19_data/csse_covid_19_time_series/time_series_covid19_deaths_global.csv'\n",
    "]"
   ]
  },
  {
   "cell_type": "code",
   "execution_count": 3,
   "metadata": {
    "ExecuteTime": {
     "end_time": "2020-04-01T05:09:51.293104Z",
     "start_time": "2020-04-01T05:09:48.902342Z"
    }
   },
   "outputs": [],
   "source": [
    "confirm = pd.read_html(urls[0])\n",
    "death = pd.read_html(urls[1])"
   ]
  },
  {
   "cell_type": "code",
   "execution_count": 4,
   "metadata": {
    "ExecuteTime": {
     "end_time": "2020-04-01T05:09:51.297106Z",
     "start_time": "2020-04-01T05:09:51.294106Z"
    }
   },
   "outputs": [],
   "source": [
    "confirm_df = confirm[0]\n",
    "death_df = death[0]"
   ]
  },
  {
   "cell_type": "code",
   "execution_count": 5,
   "metadata": {
    "ExecuteTime": {
     "end_time": "2020-04-01T05:09:51.377403Z",
     "start_time": "2020-04-01T05:09:51.375402Z"
    }
   },
   "outputs": [],
   "source": [
    "DATE = confirm_df.columns[5:]"
   ]
  },
  {
   "cell_type": "code",
   "execution_count": 6,
   "metadata": {
    "ExecuteTime": {
     "end_time": "2020-04-01T05:09:51.814156Z",
     "start_time": "2020-04-01T05:09:51.799152Z"
    }
   },
   "outputs": [],
   "source": [
    "confirm_cases = confirm_df.melt(id_vars=['Country/Region', 'Province/State'],\n",
    "                                value_vars=DATE,\n",
    "                                var_name='Date',\n",
    "                                value_name='Confirm')\n",
    "death_cases = death_df.melt(id_vars=['Country/Region', 'Province/State'],\n",
    "                            value_vars=DATE,\n",
    "                            var_name='Date',\n",
    "                            value_name='Deaths')"
   ]
  },
  {
   "cell_type": "code",
   "execution_count": 7,
   "metadata": {
    "ExecuteTime": {
     "end_time": "2020-04-01T05:09:58.819865Z",
     "start_time": "2020-04-01T05:09:53.764355Z"
    }
   },
   "outputs": [],
   "source": [
    "confirm_cases['Date'] = confirm_cases['Date'].apply(pd.to_datetime)\n",
    "death_cases['Date'] = death_cases['Date'].apply(pd.to_datetime)\n",
    "table = pd.concat([confirm_cases, death_cases['Deaths']], axis=1)"
   ]
  },
  {
   "cell_type": "code",
   "execution_count": 8,
   "metadata": {
    "ExecuteTime": {
     "end_time": "2020-04-01T05:10:00.537754Z",
     "start_time": "2020-04-01T05:10:00.533753Z"
    }
   },
   "outputs": [],
   "source": [
    "table['Country/Region'] = table['Country/Region'].replace(\n",
    "    'Korea, South', 'South Korea')"
   ]
  },
  {
   "cell_type": "code",
   "execution_count": 9,
   "metadata": {
    "ExecuteTime": {
     "end_time": "2020-04-01T05:10:01.785393Z",
     "start_time": "2020-04-01T05:10:01.780392Z"
    }
   },
   "outputs": [
    {
     "data": {
      "text/plain": [
       "array(['Afghanistan', 'Albania', 'Algeria', 'Andorra', 'Angola',\n",
       "       'Antigua and Barbuda', 'Argentina', 'Armenia', 'Australia',\n",
       "       'Austria', 'Azerbaijan', 'Bahamas', 'Bahrain', 'Bangladesh',\n",
       "       'Barbados', 'Belarus', 'Belgium', 'Benin', 'Bhutan', 'Bolivia',\n",
       "       'Bosnia and Herzegovina', 'Brazil', 'Brunei', 'Bulgaria',\n",
       "       'Burkina Faso', 'Cabo Verde', 'Cambodia', 'Cameroon', 'Canada',\n",
       "       'Central African Republic', 'Chad', 'Chile', 'China', 'Colombia',\n",
       "       'Congo (Brazzaville)', 'Congo (Kinshasa)', 'Costa Rica',\n",
       "       \"Cote d'Ivoire\", 'Croatia', 'Diamond Princess', 'Cuba', 'Cyprus',\n",
       "       'Czechia', 'Denmark', 'Djibouti', 'Dominican Republic', 'Ecuador',\n",
       "       'Egypt', 'El Salvador', 'Equatorial Guinea', 'Eritrea', 'Estonia',\n",
       "       'Eswatini', 'Ethiopia', 'Fiji', 'Finland', 'France', 'Gabon',\n",
       "       'Gambia', 'Georgia', 'Germany', 'Ghana', 'Greece', 'Guatemala',\n",
       "       'Guinea', 'Guyana', 'Haiti', 'Holy See', 'Honduras', 'Hungary',\n",
       "       'Iceland', 'India', 'Indonesia', 'Iran', 'Iraq', 'Ireland',\n",
       "       'Israel', 'Italy', 'Jamaica', 'Japan', 'Jordan', 'Kazakhstan',\n",
       "       'Kenya', 'South Korea', 'Kuwait', 'Kyrgyzstan', 'Latvia',\n",
       "       'Lebanon', 'Liberia', 'Liechtenstein', 'Lithuania', 'Luxembourg',\n",
       "       'Madagascar', 'Malaysia', 'Maldives', 'Malta', 'Mauritania',\n",
       "       'Mauritius', 'Mexico', 'Moldova', 'Monaco', 'Mongolia',\n",
       "       'Montenegro', 'Morocco', 'Namibia', 'Nepal', 'Netherlands',\n",
       "       'New Zealand', 'Nicaragua', 'Niger', 'Nigeria', 'North Macedonia',\n",
       "       'Norway', 'Oman', 'Pakistan', 'Panama', 'Papua New Guinea',\n",
       "       'Paraguay', 'Peru', 'Philippines', 'Poland', 'Portugal', 'Qatar',\n",
       "       'Romania', 'Russia', 'Rwanda', 'Saint Lucia',\n",
       "       'Saint Vincent and the Grenadines', 'San Marino', 'Saudi Arabia',\n",
       "       'Senegal', 'Serbia', 'Seychelles', 'Singapore', 'Slovakia',\n",
       "       'Slovenia', 'Somalia', 'South Africa', 'Spain', 'Sri Lanka',\n",
       "       'Sudan', 'Suriname', 'Sweden', 'Switzerland', 'Taiwan*',\n",
       "       'Tanzania', 'Thailand', 'Togo', 'Trinidad and Tobago', 'Tunisia',\n",
       "       'Turkey', 'Uganda', 'Ukraine', 'United Arab Emirates',\n",
       "       'United Kingdom', 'Uruguay', 'US', 'Uzbekistan', 'Venezuela',\n",
       "       'Vietnam', 'Zambia', 'Zimbabwe', 'Dominica', 'Grenada',\n",
       "       'Mozambique', 'Syria', 'Timor-Leste', 'Belize', 'Laos', 'Libya',\n",
       "       'West Bank and Gaza', 'Guinea-Bissau', 'Mali',\n",
       "       'Saint Kitts and Nevis', 'Kosovo', 'Burma', 'MS Zaandam',\n",
       "       'Botswana', 'Burundi', 'Sierra Leone'], dtype=object)"
      ]
     },
     "execution_count": 9,
     "metadata": {},
     "output_type": "execute_result"
    }
   ],
   "source": [
    "table['Country/Region'].unique()"
   ]
  },
  {
   "cell_type": "code",
   "execution_count": 10,
   "metadata": {
    "ExecuteTime": {
     "end_time": "2020-04-01T05:10:03.963274Z",
     "start_time": "2020-04-01T05:10:03.958274Z"
    }
   },
   "outputs": [
    {
     "data": {
      "text/plain": [
       "array([nan, 'Australian Capital Territory', 'New South Wales',\n",
       "       'Northern Territory', 'Queensland', 'South Australia', 'Tasmania',\n",
       "       'Victoria', 'Western Australia', 'Alberta', 'British Columbia',\n",
       "       'Grand Princess', 'Manitoba', 'New Brunswick',\n",
       "       'Newfoundland and Labrador', 'Nova Scotia', 'Ontario',\n",
       "       'Prince Edward Island', 'Quebec', 'Saskatchewan', 'Anhui',\n",
       "       'Beijing', 'Chongqing', 'Fujian', 'Gansu', 'Guangdong', 'Guangxi',\n",
       "       'Guizhou', 'Hainan', 'Hebei', 'Heilongjiang', 'Henan', 'Hong Kong',\n",
       "       'Hubei', 'Hunan', 'Inner Mongolia', 'Jiangsu', 'Jiangxi', 'Jilin',\n",
       "       'Liaoning', 'Macau', 'Ningxia', 'Qinghai', 'Shaanxi', 'Shandong',\n",
       "       'Shanghai', 'Shanxi', 'Sichuan', 'Tianjin', 'Tibet', 'Xinjiang',\n",
       "       'Yunnan', 'Zhejiang', 'Faroe Islands', 'Greenland',\n",
       "       'French Guiana', 'French Polynesia', 'Guadeloupe', 'Mayotte',\n",
       "       'New Caledonia', 'Reunion', 'Saint Barthelemy', 'St Martin',\n",
       "       'Martinique', 'Aruba', 'Curacao', 'Sint Maarten', 'Bermuda',\n",
       "       'Cayman Islands', 'Channel Islands', 'Gibraltar', 'Isle of Man',\n",
       "       'Montserrat', 'Diamond Princess', 'Recovered',\n",
       "       'Northwest Territories', 'Yukon', 'Anguilla',\n",
       "       'British Virgin Islands', 'Turks and Caicos Islands'], dtype=object)"
      ]
     },
     "execution_count": 10,
     "metadata": {},
     "output_type": "execute_result"
    }
   ],
   "source": [
    "table['Province/State'].unique()"
   ]
  },
  {
   "cell_type": "code",
   "execution_count": 11,
   "metadata": {
    "ExecuteTime": {
     "end_time": "2020-04-01T05:10:09.117087Z",
     "start_time": "2020-04-01T05:10:09.106084Z"
    }
   },
   "outputs": [
    {
     "data": {
      "text/html": [
       "<div>\n",
       "<style scoped>\n",
       "    .dataframe tbody tr th:only-of-type {\n",
       "        vertical-align: middle;\n",
       "    }\n",
       "\n",
       "    .dataframe tbody tr th {\n",
       "        vertical-align: top;\n",
       "    }\n",
       "\n",
       "    .dataframe thead th {\n",
       "        text-align: right;\n",
       "    }\n",
       "</style>\n",
       "<table border=\"1\" class=\"dataframe\">\n",
       "  <thead>\n",
       "    <tr style=\"text-align: right;\">\n",
       "      <th></th>\n",
       "      <th>Country/Region</th>\n",
       "      <th>Province/State</th>\n",
       "      <th>Date</th>\n",
       "      <th>Confirm</th>\n",
       "      <th>Deaths</th>\n",
       "    </tr>\n",
       "  </thead>\n",
       "  <tbody>\n",
       "    <tr>\n",
       "      <th>0</th>\n",
       "      <td>Afghanistan</td>\n",
       "      <td>NaN</td>\n",
       "      <td>2020-01-22</td>\n",
       "      <td>0</td>\n",
       "      <td>0</td>\n",
       "    </tr>\n",
       "    <tr>\n",
       "      <th>1</th>\n",
       "      <td>Albania</td>\n",
       "      <td>NaN</td>\n",
       "      <td>2020-01-22</td>\n",
       "      <td>0</td>\n",
       "      <td>0</td>\n",
       "    </tr>\n",
       "    <tr>\n",
       "      <th>2</th>\n",
       "      <td>Algeria</td>\n",
       "      <td>NaN</td>\n",
       "      <td>2020-01-22</td>\n",
       "      <td>0</td>\n",
       "      <td>0</td>\n",
       "    </tr>\n",
       "    <tr>\n",
       "      <th>3</th>\n",
       "      <td>Andorra</td>\n",
       "      <td>NaN</td>\n",
       "      <td>2020-01-22</td>\n",
       "      <td>0</td>\n",
       "      <td>0</td>\n",
       "    </tr>\n",
       "    <tr>\n",
       "      <th>4</th>\n",
       "      <td>Angola</td>\n",
       "      <td>NaN</td>\n",
       "      <td>2020-01-22</td>\n",
       "      <td>0</td>\n",
       "      <td>0</td>\n",
       "    </tr>\n",
       "  </tbody>\n",
       "</table>\n",
       "</div>"
      ],
      "text/plain": [
       "  Country/Region Province/State       Date  Confirm  Deaths\n",
       "0    Afghanistan            NaN 2020-01-22        0       0\n",
       "1        Albania            NaN 2020-01-22        0       0\n",
       "2        Algeria            NaN 2020-01-22        0       0\n",
       "3        Andorra            NaN 2020-01-22        0       0\n",
       "4         Angola            NaN 2020-01-22        0       0"
      ]
     },
     "execution_count": 11,
     "metadata": {},
     "output_type": "execute_result"
    }
   ],
   "source": [
    "table.head()"
   ]
  },
  {
   "cell_type": "code",
   "execution_count": 12,
   "metadata": {
    "ExecuteTime": {
     "end_time": "2020-04-01T05:10:11.552276Z",
     "start_time": "2020-04-01T05:10:11.544274Z"
    }
   },
   "outputs": [
    {
     "data": {
      "text/html": [
       "<div>\n",
       "<style scoped>\n",
       "    .dataframe tbody tr th:only-of-type {\n",
       "        vertical-align: middle;\n",
       "    }\n",
       "\n",
       "    .dataframe tbody tr th {\n",
       "        vertical-align: top;\n",
       "    }\n",
       "\n",
       "    .dataframe thead th {\n",
       "        text-align: right;\n",
       "    }\n",
       "</style>\n",
       "<table border=\"1\" class=\"dataframe\">\n",
       "  <thead>\n",
       "    <tr style=\"text-align: right;\">\n",
       "      <th></th>\n",
       "      <th>Country/Region</th>\n",
       "      <th>Province/State</th>\n",
       "      <th>Date</th>\n",
       "      <th>Confirm</th>\n",
       "      <th>Deaths</th>\n",
       "    </tr>\n",
       "  </thead>\n",
       "  <tbody>\n",
       "    <tr>\n",
       "      <th>0</th>\n",
       "      <td>Afghanistan</td>\n",
       "      <td>NaN</td>\n",
       "      <td>2020-01-22</td>\n",
       "      <td>0</td>\n",
       "      <td>0</td>\n",
       "    </tr>\n",
       "    <tr>\n",
       "      <th>1</th>\n",
       "      <td>Albania</td>\n",
       "      <td>NaN</td>\n",
       "      <td>2020-01-22</td>\n",
       "      <td>0</td>\n",
       "      <td>0</td>\n",
       "    </tr>\n",
       "    <tr>\n",
       "      <th>2</th>\n",
       "      <td>Algeria</td>\n",
       "      <td>NaN</td>\n",
       "      <td>2020-01-22</td>\n",
       "      <td>0</td>\n",
       "      <td>0</td>\n",
       "    </tr>\n",
       "    <tr>\n",
       "      <th>3</th>\n",
       "      <td>Andorra</td>\n",
       "      <td>NaN</td>\n",
       "      <td>2020-01-22</td>\n",
       "      <td>0</td>\n",
       "      <td>0</td>\n",
       "    </tr>\n",
       "    <tr>\n",
       "      <th>4</th>\n",
       "      <td>Angola</td>\n",
       "      <td>NaN</td>\n",
       "      <td>2020-01-22</td>\n",
       "      <td>0</td>\n",
       "      <td>0</td>\n",
       "    </tr>\n",
       "    <tr>\n",
       "      <th>...</th>\n",
       "      <td>...</td>\n",
       "      <td>...</td>\n",
       "      <td>...</td>\n",
       "      <td>...</td>\n",
       "      <td>...</td>\n",
       "    </tr>\n",
       "    <tr>\n",
       "      <th>17915</th>\n",
       "      <td>United Kingdom</td>\n",
       "      <td>Turks and Caicos Islands</td>\n",
       "      <td>2020-03-31</td>\n",
       "      <td>5</td>\n",
       "      <td>0</td>\n",
       "    </tr>\n",
       "    <tr>\n",
       "      <th>17916</th>\n",
       "      <td>MS Zaandam</td>\n",
       "      <td>NaN</td>\n",
       "      <td>2020-03-31</td>\n",
       "      <td>2</td>\n",
       "      <td>0</td>\n",
       "    </tr>\n",
       "    <tr>\n",
       "      <th>17917</th>\n",
       "      <td>Botswana</td>\n",
       "      <td>NaN</td>\n",
       "      <td>2020-03-31</td>\n",
       "      <td>4</td>\n",
       "      <td>1</td>\n",
       "    </tr>\n",
       "    <tr>\n",
       "      <th>17918</th>\n",
       "      <td>Burundi</td>\n",
       "      <td>NaN</td>\n",
       "      <td>2020-03-31</td>\n",
       "      <td>2</td>\n",
       "      <td>0</td>\n",
       "    </tr>\n",
       "    <tr>\n",
       "      <th>17919</th>\n",
       "      <td>Sierra Leone</td>\n",
       "      <td>NaN</td>\n",
       "      <td>2020-03-31</td>\n",
       "      <td>1</td>\n",
       "      <td>0</td>\n",
       "    </tr>\n",
       "  </tbody>\n",
       "</table>\n",
       "<p>17920 rows × 5 columns</p>\n",
       "</div>"
      ],
      "text/plain": [
       "       Country/Region            Province/State       Date  Confirm  Deaths\n",
       "0         Afghanistan                       NaN 2020-01-22        0       0\n",
       "1             Albania                       NaN 2020-01-22        0       0\n",
       "2             Algeria                       NaN 2020-01-22        0       0\n",
       "3             Andorra                       NaN 2020-01-22        0       0\n",
       "4              Angola                       NaN 2020-01-22        0       0\n",
       "...               ...                       ...        ...      ...     ...\n",
       "17915  United Kingdom  Turks and Caicos Islands 2020-03-31        5       0\n",
       "17916      MS Zaandam                       NaN 2020-03-31        2       0\n",
       "17917        Botswana                       NaN 2020-03-31        4       1\n",
       "17918         Burundi                       NaN 2020-03-31        2       0\n",
       "17919    Sierra Leone                       NaN 2020-03-31        1       0\n",
       "\n",
       "[17920 rows x 5 columns]"
      ]
     },
     "execution_count": 12,
     "metadata": {},
     "output_type": "execute_result"
    }
   ],
   "source": [
    "table"
   ]
  },
  {
   "cell_type": "code",
   "execution_count": 13,
   "metadata": {
    "ExecuteTime": {
     "end_time": "2020-04-01T05:10:14.989198Z",
     "start_time": "2020-04-01T05:10:14.980195Z"
    }
   },
   "outputs": [],
   "source": [
    "country_others = table.loc[(table['Country/Region'] != 'US')\n",
    "                           & (table['Country/Region'] != 'China') &\n",
    "                           (table['Country/Region'] != 'Spain') &\n",
    "                           (table['Country/Region'] != 'Italy')]"
   ]
  },
  {
   "cell_type": "code",
   "execution_count": 14,
   "metadata": {
    "ExecuteTime": {
     "end_time": "2020-04-01T05:10:15.328354Z",
     "start_time": "2020-04-01T05:10:15.320352Z"
    }
   },
   "outputs": [],
   "source": [
    "country_top4 = table.loc[(table['Country/Region'] == 'US') |\n",
    "                         (table['Country/Region'] == 'China') |\n",
    "                         (table['Country/Region'] == 'Spain') |\n",
    "                         (table['Country/Region'] == 'Italy')]"
   ]
  },
  {
   "cell_type": "code",
   "execution_count": 15,
   "metadata": {
    "ExecuteTime": {
     "end_time": "2020-04-01T05:10:18.969688Z",
     "start_time": "2020-04-01T05:10:18.955685Z"
    }
   },
   "outputs": [],
   "source": [
    "country_others_grouped = country_others.groupby(['Country/Region',\n",
    "                                                 'Date']).sum()\n",
    "country_top4_grouped = country_top4.groupby(['Country/Region', 'Date']).sum()"
   ]
  },
  {
   "cell_type": "code",
   "execution_count": 17,
   "metadata": {
    "ExecuteTime": {
     "end_time": "2020-04-01T05:10:30.674963Z",
     "start_time": "2020-04-01T05:10:30.670963Z"
    }
   },
   "outputs": [],
   "source": [
    "country_top4_confirm = country_top4_grouped.loc[:, ['Confirm']]\n",
    "country_others_confirm = country_others_grouped.loc[:,['Confirm']]"
   ]
  },
  {
   "cell_type": "code",
   "execution_count": 18,
   "metadata": {
    "ExecuteTime": {
     "end_time": "2020-04-01T05:10:35.685618Z",
     "start_time": "2020-04-01T05:10:35.661613Z"
    }
   },
   "outputs": [],
   "source": [
    "country_confirm_top_4 = pd.pivot_table(\n",
    "    country_top4_confirm, index='Date', columns='Country/Region', values='Confirm')\n",
    "country_confirm_others = pd.pivot_table(\n",
    "    country_others_confirm, index='Date', columns='Country/Region', values='Confirm')"
   ]
  }
 ],
 "metadata": {
  "gist": {
   "data": {
    "description": "COVID-19/Covid-19 EDA.ipynb",
    "public": true
   },
   "id": ""
  },
  "hide_input": false,
  "kernelspec": {
   "display_name": "CfaMJ",
   "language": "python",
   "name": "cfamj"
  },
  "language_info": {
   "codemirror_mode": {
    "name": "ipython",
    "version": 3
   },
   "file_extension": ".py",
   "mimetype": "text/x-python",
   "name": "python",
   "nbconvert_exporter": "python",
   "pygments_lexer": "ipython3",
   "version": "3.7.5"
  },
  "toc": {
   "base_numbering": 1,
   "nav_menu": {},
   "number_sections": true,
   "sideBar": true,
   "skip_h1_title": true,
   "title_cell": "Table of Contents",
   "title_sidebar": "Contents",
   "toc_cell": false,
   "toc_position": {
    "height": "1010.89px",
    "left": "166px",
    "top": "359.406px",
    "width": "166.534px"
   },
   "toc_section_display": true,
   "toc_window_display": true
  }
 },
 "nbformat": 4,
 "nbformat_minor": 4
}
